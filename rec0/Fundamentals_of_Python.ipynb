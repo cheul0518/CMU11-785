{
  "nbformat": 4,
  "nbformat_minor": 0,
  "metadata": {
    "colab": {
      "name": "Fundamentals_of_Python.ipynb",
      "provenance": [],
      "collapsed_sections": []
    },
    "kernelspec": {
      "display_name": "Python 3",
      "language": "python",
      "name": "python3"
    },
    "language_info": {
      "codemirror_mode": {
        "name": "ipython",
        "version": 3
      },
      "file_extension": ".py",
      "mimetype": "text/x-python",
      "name": "python",
      "nbconvert_exporter": "python",
      "pygments_lexer": "ipython3",
      "version": "3.7.4"
    }
  },
  "cells": [
    {
      "cell_type": "markdown",
      "metadata": {
        "id": "UUIPeZY_5nw_"
      },
      "source": [
        "# Recitation 0 - Introduction\n",
        "Welcome to the Recitation 0 for the Fall 2020 iteration of the course 11-785: Intro to Deep Learning. \n",
        "Recitation 0 is split into 3 bigger pictures, with every part divided into sub-parts. \n",
        "* Big Picture 1 (Recitation 0A, 0B, 0C) - Introduction to Python, Numpy, and Pytorch\n",
        "* Big Picture 2 (Recitation 0D, 0E)     - Introduction to AWS, Google Colab, and Jupyter\n",
        "* Big Picture 3 (Recitation 0F, 0G)     - Introduction to Debugging, Tensorboard, TSNE, and Visualization\n"
      ]
    },
    {
      "cell_type": "markdown",
      "metadata": {
        "id": "usWyONEENSke"
      },
      "source": [
        "# *Recitation 0A - Introduction to Python*\n",
        "\n"
      ]
    },
    {
      "cell_type": "markdown",
      "metadata": {
        "id": "wGc1kbgXQoLT"
      },
      "source": [
        "Python\n",
        "\n",
        "All information about python, from downloading to documentation, can be found here: https://www.python.org. We recommend that you use python 3 for the homeworks in this course."
      ]
    },
    {
      "cell_type": "markdown",
      "metadata": {
        "id": "zDYp9r3FRCOI"
      },
      "source": [
        "External Modules\n",
        "\n",
        "Install external modules using the pip package manager(https://pypi.org/project/pip/). \n",
        "The main modules we'll be using in the course include  \n",
        "\n",
        "*   numpy\n",
        "*   torch (Pytorch)\n",
        "\n",
        "To check if both the modules got installed correctly, please type the below code in your terminal and check if some version comes up.\n",
        "\n",
        "```\n",
        "python -c \"import torch; print(torch.__version__)\"\n",
        "python -c \"import numpy; print(numpy.version.version)\"\n",
        "```\n",
        "\n"
      ]
    },
    {
      "cell_type": "markdown",
      "metadata": {
        "id": "t9FINMJKTlQu"
      },
      "source": [
        "Importing Modules code snippets"
      ]
    },
    {
      "cell_type": "code",
      "metadata": {
        "id": "TL-2zx-FTYWn"
      },
      "source": [
        "import numpy\n",
        "a = numpy.array([1,2,3])\n",
        "\n",
        "import numpy as np\n",
        "a = np.array([1,2,3])\n",
        "\n",
        "from math import ceil\n",
        "\n",
        "from math import * "
      ],
      "execution_count": null,
      "outputs": []
    },
    {
      "cell_type": "markdown",
      "metadata": {
        "id": "dT6Ft1G7VdnM"
      },
      "source": [
        "File Formats and Loading Data\n",
        "\n",
        "\n",
        "\n",
        "*   .txt: plain text file\n",
        "*   .pkl: python objects\n",
        "*   .csv: tabular data - fields separated by commas\n",
        "*   .npy: numpy arrays (saved using numpy library)\n",
        "*   .npz: zipped archive of npy files"
      ]
    },
    {
      "cell_type": "code",
      "metadata": {
        "id": "XfuNy5irWjC_",
        "colab": {
          "base_uri": "https://localhost:8080/"
        },
        "outputId": "60791878-3c5f-4a88-8ddf-9d0471e401ff"
      },
      "source": [
        "# Download recitation 0a.txt into google colab local VM\n",
        "!wget https://raw.githubusercontent.com/cheul0518/CMU11-785/main/rec0/recitation0a.txt\n",
        "\n",
        "# traditional way of reading files with explicit open and close statements\n",
        "\n",
        "f = open(\"recitation0a.txt\", \"r\")\n",
        "print(f.readlines())\n",
        "f.close()"
      ],
      "execution_count": null,
      "outputs": [
        {
          "output_type": "stream",
          "text": [
            "['This is the first line of text.\\n', 'This is the second line of text.']\n"
          ],
          "name": "stdout"
        }
      ]
    },
    {
      "cell_type": "code",
      "metadata": {
        "id": "hdb29mg3WlKU",
        "colab": {
          "base_uri": "https://localhost:8080/"
        },
        "outputId": "d1bc1ddb-b830-4972-f0e5-5f67b3d7fb56"
      },
      "source": [
        "# no need to mention explict close statement in the \"with\" statement\n",
        "\n",
        "with open(\"recitation0a.txt\", \"r\") as f:\n",
        "    print(f.readlines())"
      ],
      "execution_count": null,
      "outputs": [
        {
          "output_type": "stream",
          "text": [
            "['This is the first line of text.\\n', 'This is the second line of text.']\n"
          ],
          "name": "stdout"
        }
      ]
    },
    {
      "cell_type": "markdown",
      "metadata": {
        "id": "9R9tnhl_WuMr"
      },
      "source": [
        "More about file access modes: https://stackoverflow.com/questions/16208206/confused-by-python-file-mode-w\n",
        "\n",
        "Diagram: [diagram](https://stackoverflow.com/a/30566011)"
      ]
    },
    {
      "cell_type": "code",
      "metadata": {
        "id": "ywtui4QIXC1N",
        "colab": {
          "base_uri": "https://localhost:8080/"
        },
        "outputId": "d4147519-f279-4fce-85e3-6aa6d06bc0c2"
      },
      "source": [
        "# Download sampledata.csv into google colab local VM\n",
        "!wget https://raw.githubusercontent.com/cheul0518/CMU11-785/main/rec0/sampledata.csv\n",
        "\n",
        "# to read a csv file\n",
        "\n",
        "import csv\n",
        "\n",
        "with open (\"sampledata.csv\", \"r\") as f:\n",
        "    reader = csv.reader(f, delimiter=\",\")\n",
        "    \n",
        "    for row in reader:\n",
        "        print(row)"
      ],
      "execution_count": 12,
      "outputs": [
        {
          "output_type": "stream",
          "text": [
            "--2020-11-24 23:44:47--  https://raw.githubusercontent.com/cheul0518/CMU11-785/main/rec0/sampledata.csv\n",
            "Resolving raw.githubusercontent.com (raw.githubusercontent.com)... 151.101.0.133, 151.101.64.133, 151.101.128.133, ...\n",
            "Connecting to raw.githubusercontent.com (raw.githubusercontent.com)|151.101.0.133|:443... connected.\n",
            "HTTP request sent, awaiting response... 200 OK\n",
            "Length: 889 [text/plain]\n",
            "Saving to: ‘sampledata.csv.1’\n",
            "\n",
            "sampledata.csv.1    100%[===================>]     889  --.-KB/s    in 0s      \n",
            "\n",
            "2020-11-24 23:44:47 (43.6 MB/s) - ‘sampledata.csv.1’ saved [889/889]\n",
            "\n",
            "['Year', 'Variable_name', 'Variable_category', 'Value']\n",
            "['2018', 'Total income', 'Financial performance', '691859']\n",
            "['2018', 'Sales, government funding, grants and subsidies', 'Financial performance', '605766']\n",
            "['2018', 'Interest, dividends and donations', 'Financial performance', '63509']\n",
            "['2018', 'Non-operating income', 'Financial performance', '22583']\n",
            "['2018', 'Total expenditure', 'Financial performance', '597623']\n",
            "['2018', 'Interest and donations', 'Financial performance', '34223']\n",
            "['2018', 'Indirect taxes', 'Financial performance', '7124']\n",
            "['2018', 'Depreciation', 'Financial performance', '19863']\n",
            "['2018', 'Salaries and wages paid', 'Financial performance', '106351']\n",
            "['2018', 'Redundancy and severance', 'Financial performance', '297']\n",
            "['2018', 'Salaries and wages to self employed commission agents', 'Financial performance', '1659']\n",
            "['2018', 'Purchases and other operating expenses', 'Financial performance', '418642']\n",
            "['2018', 'Non-operating expenses', 'Financial performance', '9762']\n",
            "['2018', 'Opening stocks', 'Financial performance', '59433']\n"
          ],
          "name": "stdout"
        }
      ]
    },
    {
      "cell_type": "code",
      "metadata": {
        "id": "SUZA7TnW-2kl",
        "colab": {
          "base_uri": "https://localhost:8080/"
        },
        "outputId": "9d6d986b-3e32-4aa2-e455-ce8d463d03ca"
      },
      "source": [
        "import pickle\n",
        "\n",
        "mydict = {\"student1\": \"Alice\", \"Student2\": \"Bob\", \"Student3\": \"Rachel\"}\n",
        "\n",
        "pickle.dump(mydict, open(\"store.pkl\", \"wb\"))\n",
        "\n",
        "loaded = pickle.load(open(\"store.pkl\", \"rb\"))\n",
        "print(loaded)"
      ],
      "execution_count": 13,
      "outputs": [
        {
          "output_type": "stream",
          "text": [
            "{'student1': 'Alice', 'Student2': 'Bob', 'Student3': 'Rachel'}\n"
          ],
          "name": "stdout"
        }
      ]
    },
    {
      "cell_type": "markdown",
      "metadata": {
        "id": "W9NyFYBd6JI3"
      },
      "source": [
        "Data Storing\n",
        "\n",
        "\n",
        " - lists: generic container - allow for numeric indexing\n",
        " - tuples: immutable lists\n",
        " - dictionaries: keys act as indices - keys must be unique\n",
        " - sets: group of unique elements"
      ]
    },
    {
      "cell_type": "code",
      "metadata": {
        "id": "r3_fTgQqb_Ih",
        "colab": {
          "base_uri": "https://localhost:8080/"
        },
        "outputId": "b93d91a8-457a-47f2-f937-9af433f4e87d"
      },
      "source": [
        "same_type_list = [1, 3, 4, 89, 23, 43, 90]\n",
        "diff_type_list = [1, 3, \"hello\", 4.9, \"c\"]\n",
        "\n",
        "print(same_type_list[3])\n",
        "print(len(same_type_list))\n",
        "\n",
        "same_type_list[0] = \"I'm new\"\n",
        "print(same_type_list)"
      ],
      "execution_count": 24,
      "outputs": [
        {
          "output_type": "stream",
          "text": [
            "89\n",
            "7\n",
            "[\"I'm new\", 3, 4, 89, 23, 43, 90]\n"
          ],
          "name": "stdout"
        }
      ]
    },
    {
      "cell_type": "code",
      "metadata": {
        "id": "iChZqwAqcJAO",
        "colab": {
          "base_uri": "https://localhost:8080/"
        },
        "outputId": "77ffd8eb-5c8c-4d9c-c396-9a92e2f0efe6"
      },
      "source": [
        "new_list = same_type_list + diff_type_list  # + sign does combine (concatante)\n",
        "print(new_list)"
      ],
      "execution_count": 16,
      "outputs": [
        {
          "output_type": "stream",
          "text": [
            "[1, 3, 4, 89, 23, 43, 90, 1, 3, 'hello', 4.9, 'c']\n"
          ],
          "name": "stdout"
        }
      ]
    },
    {
      "cell_type": "code",
      "metadata": {
        "id": "f1Yy_fwUcLEc",
        "colab": {
          "base_uri": "https://localhost:8080/"
        },
        "outputId": "6a110db3-d3a1-4d6f-e909-39dcc221670e"
      },
      "source": [
        "new_list_2 = [\"hi\", \"hello\"] * 2\n",
        "print(new_list_2)"
      ],
      "execution_count": 17,
      "outputs": [
        {
          "output_type": "stream",
          "text": [
            "['hi', 'hello', 'hi', 'hello']\n"
          ],
          "name": "stdout"
        }
      ]
    },
    {
      "cell_type": "code",
      "metadata": {
        "id": "zN5dQvkrcNUa",
        "colab": {
          "base_uri": "https://localhost:8080/"
        },
        "outputId": "fc2d2f19-8ef5-404d-be46-9568f4960a02"
      },
      "source": [
        "same_type_tuple = (1, 10, 7)\n",
        "diff_type_tuple = (1, 2, \"foo\") \n",
        "\n",
        "print(diff_type_tuple[2])\n",
        "print(same_type_tuple[1])\n",
        "\n",
        "#same_type_tuple[0] = 3"
      ],
      "execution_count": 20,
      "outputs": [
        {
          "output_type": "stream",
          "text": [
            "foo\n",
            "10\n"
          ],
          "name": "stdout"
        }
      ]
    },
    {
      "cell_type": "code",
      "metadata": {
        "id": "m3e4VQOhco5k",
        "colab": {
          "base_uri": "https://localhost:8080/",
          "height": 249
        },
        "outputId": "f1d7af28-3280-41b3-945e-11dc3fd1c702"
      },
      "source": [
        "# some more list/tuple functions: assumtpion: all items in the list are the same type\n",
        "\n",
        "print(max(same_type_tuple))\n",
        "print(min(same_type_tuple))\n",
        "print(sorted(same_type_tuple))\n",
        "\n",
        "#print(sorted(diff_type_tuple))\n",
        "#print(min(same_type_list))"
      ],
      "execution_count": 25,
      "outputs": [
        {
          "output_type": "stream",
          "text": [
            "10\n",
            "1\n",
            "[1, 7, 10]\n"
          ],
          "name": "stdout"
        },
        {
          "output_type": "error",
          "ename": "TypeError",
          "evalue": "ignored",
          "traceback": [
            "\u001b[0;31m---------------------------------------------------------------------------\u001b[0m",
            "\u001b[0;31mTypeError\u001b[0m                                 Traceback (most recent call last)",
            "\u001b[0;32m<ipython-input-25-e4626bba6049>\u001b[0m in \u001b[0;36m<module>\u001b[0;34m()\u001b[0m\n\u001b[1;32m      6\u001b[0m \u001b[0;34m\u001b[0m\u001b[0m\n\u001b[1;32m      7\u001b[0m \u001b[0;31m#print(sorted(diff_type_tuple))\u001b[0m\u001b[0;34m\u001b[0m\u001b[0;34m\u001b[0m\u001b[0;34m\u001b[0m\u001b[0m\n\u001b[0;32m----> 8\u001b[0;31m \u001b[0mprint\u001b[0m\u001b[0;34m(\u001b[0m\u001b[0mmin\u001b[0m\u001b[0;34m(\u001b[0m\u001b[0msame_type_list\u001b[0m\u001b[0;34m)\u001b[0m\u001b[0;34m)\u001b[0m\u001b[0;34m\u001b[0m\u001b[0;34m\u001b[0m\u001b[0m\n\u001b[0m",
            "\u001b[0;31mTypeError\u001b[0m: '<' not supported between instances of 'int' and 'str'"
          ]
        }
      ]
    },
    {
      "cell_type": "code",
      "metadata": {
        "id": "eFLbsSkLcS1s",
        "colab": {
          "base_uri": "https://localhost:8080/"
        },
        "outputId": "99923b90-1c99-491d-f3de-02086879d121"
      },
      "source": [
        "my_dict = {\"student1\": \"Alice\", \"student2\": \"Bob\", \"student3\": \"Rachel\"}  # key : value\n",
        "\n",
        "print(my_dict[\"student1\"])\n",
        "#print(my_dict[0])\n",
        "#print(my_dict[\"student4\"])\n",
        "print(my_dict.get(\"student3\", \"student does not exist\"))\n",
        "print(my_dict.get(\"student4\", \"student does not exist\"))"
      ],
      "execution_count": 30,
      "outputs": [
        {
          "output_type": "stream",
          "text": [
            "Alice\n",
            "Rachel\n",
            "student does not exist\n"
          ],
          "name": "stdout"
        }
      ]
    },
    {
      "cell_type": "code",
      "metadata": {
        "id": "mugMOPnBchZL",
        "colab": {
          "base_uri": "https://localhost:8080/"
        },
        "outputId": "3ac3c90a-c367-49b8-a8e8-786d9f76d3df"
      },
      "source": [
        "my_dict[\"student1\"] = \"Billy\"\n",
        "print(my_dict)"
      ],
      "execution_count": 31,
      "outputs": [
        {
          "output_type": "stream",
          "text": [
            "{'student1': 'Billy', 'student2': 'Bob', 'student3': 'Rachel'}\n"
          ],
          "name": "stdout"
        }
      ]
    },
    {
      "cell_type": "code",
      "metadata": {
        "id": "z2MU9sJlcjj_",
        "colab": {
          "base_uri": "https://localhost:8080/"
        },
        "outputId": "6a1e093a-6d70-46ab-998e-27cc9462e694"
      },
      "source": [
        "my_set = {\"obj1\", \"obj2\", \"obj3\"} # key (no value)\n",
        "print(my_set)\n",
        "#print(my_set[1])\n",
        "#print(my_set[\"obj1\"])"
      ],
      "execution_count": 35,
      "outputs": [
        {
          "output_type": "stream",
          "text": [
            "{'obj1', 'obj2', 'obj3'}\n"
          ],
          "name": "stdout"
        }
      ]
    },
    {
      "cell_type": "code",
      "metadata": {
        "id": "qrA3WPXobCKa",
        "colab": {
          "base_uri": "https://localhost:8080/"
        },
        "outputId": "c8a3dd3e-a72b-4451-ccd1-3089b2378698"
      },
      "source": [
        "# use of random in selecting data from dictionaries\n",
        "\n",
        "import random\n",
        "countries = {'VENEZUELA':'CARACAS', 'CANADA':'OTTAWA'}\n",
        "bex = random.choice(list(countries))\n",
        "print(bex)"
      ],
      "execution_count": 39,
      "outputs": [
        {
          "output_type": "stream",
          "text": [
            "VENEZUELA\n"
          ],
          "name": "stdout"
        }
      ]
    },
    {
      "cell_type": "markdown",
      "metadata": {
        "id": "0LQGSXf3C0CG"
      },
      "source": [
        "More about Random: https://docs.python.org/3/library/random.html"
      ]
    },
    {
      "cell_type": "code",
      "metadata": {
        "id": "ExQUsiQ2au2m",
        "colab": {
          "base_uri": "https://localhost:8080/"
        },
        "outputId": "10c11174-1249-42e9-b986-48c73d2b68bd"
      },
      "source": [
        "some_array = [[[64,64,32],\n",
        "                 [22,23,24]],\n",
        "                [[64,4,32],\n",
        "                 [22,3,24]]\n",
        "               ]\n",
        "some_array = np.asarray(some_array)\n",
        "print(some_array.shape)\n",
        "\n",
        "another_array = list(range(3))\n",
        "print(another_array)"
      ],
      "execution_count": 47,
      "outputs": [
        {
          "output_type": "stream",
          "text": [
            "(2, 2, 3)\n",
            "[0, 1, 2]\n"
          ],
          "name": "stdout"
        }
      ]
    },
    {
      "cell_type": "markdown",
      "metadata": {
        "id": "ZRxioqko6hcZ"
      },
      "source": [
        "Filtering Lists\n",
        "\n",
        "1. Slicing and Dicing\n",
        "2. List comprehensions"
      ]
    },
    {
      "cell_type": "code",
      "metadata": {
        "id": "JWmpXvsNfzaa",
        "colab": {
          "base_uri": "https://localhost:8080/",
          "height": 70
        },
        "outputId": "8410f54b-e53c-4785-d86a-e0e8416ef054"
      },
      "source": [
        "# slicing & dicing\n",
        "# general format: sliced_list = [start_idx : end_idx+1 : step]\n",
        "\n",
        "some_list = [2, 5, 2, 45, 7, 9, 76, 80, 21, 53]\n",
        "print(some_list[5:])\n",
        "print(some_list[:3])\n",
        "print(some_list[3:9:2])"
      ],
      "execution_count": null,
      "outputs": [
        {
          "output_type": "stream",
          "text": [
            "[9, 76, 80, 21, 53]\n",
            "[2, 5, 2]\n",
            "[45, 9, 80]\n"
          ],
          "name": "stdout"
        }
      ]
    },
    {
      "cell_type": "markdown",
      "metadata": {
        "id": "o0wWFV90gJqZ"
      },
      "source": [
        "Slicing with 2D and 3D arrays\n",
        "\n",
        "3D arrays are indexed across the 3 dimensions as follows:\n",
        "\n",
        "![3D array](https://raw.githubusercontent.com/cheul0518/CMU11-785/main/rec0/3d-array-stack.png)\n",
        "\n",
        "Where if you consider your 3D array to be a stack of matrices, i selects the matrix, j selects the row in that matrix and k selects the column in that matrix."
      ]
    },
    {
      "cell_type": "code",
      "metadata": {
        "id": "gHVjdegOgJRs",
        "colab": {
          "base_uri": "https://localhost:8080/"
        },
        "outputId": "489696d3-1038-438a-aced-3057ae297c89"
      },
      "source": [
        "# slicing 3D array examples:\n",
        "\n",
        "three_d_array = np.array([[[10, 11, 12], [13, 14, 15], [16, 17, 18]],\n",
        "               [[20, 21, 22], [23, 24, 25], [26, 27, 28]],\n",
        "               [[30, 31, 32], [33, 34, 35], [36, 37, 38]]])\n",
        "\n",
        "print(three_d_array)"
      ],
      "execution_count": 48,
      "outputs": [
        {
          "output_type": "stream",
          "text": [
            "[[[10 11 12]\n",
            "  [13 14 15]\n",
            "  [16 17 18]]\n",
            "\n",
            " [[20 21 22]\n",
            "  [23 24 25]\n",
            "  [26 27 28]]\n",
            "\n",
            " [[30 31 32]\n",
            "  [33 34 35]\n",
            "  [36 37 38]]]\n"
          ],
          "name": "stdout"
        }
      ]
    },
    {
      "cell_type": "code",
      "metadata": {
        "id": "kpYtd9rcg3ok",
        "colab": {
          "base_uri": "https://localhost:8080/"
        },
        "outputId": "77640c44-da05-4a6a-eb13-835685e5a79c"
      },
      "source": [
        "# ------------ selecting a row ------------\n",
        "# you want to specify the matrix, then the row\n",
        "\n",
        "print(three_d_array[0,2]) # matrix 0, row 2\n",
        "print(three_d_array[0:2])"
      ],
      "execution_count": 50,
      "outputs": [
        {
          "output_type": "stream",
          "text": [
            "[16 17 18]\n",
            "[[[10 11 12]\n",
            "  [13 14 15]\n",
            "  [16 17 18]]\n",
            "\n",
            " [[20 21 22]\n",
            "  [23 24 25]\n",
            "  [26 27 28]]]\n"
          ],
          "name": "stdout"
        }
      ]
    },
    {
      "cell_type": "code",
      "metadata": {
        "id": "nNTB1p4Qg5V1",
        "colab": {
          "base_uri": "https://localhost:8080/"
        },
        "outputId": "0cc99975-0d2c-4576-dfe0-67b58b0ab98f"
      },
      "source": [
        "# ------------ selecting a column ------------\n",
        "# you want to specify the matrix, ignore the row, and then specify the column\n",
        "\n",
        "print(three_d_array[1, :, 1]) # matrix 1, column 1"
      ],
      "execution_count": 51,
      "outputs": [
        {
          "output_type": "stream",
          "text": [
            "[21 24 27]\n"
          ],
          "name": "stdout"
        }
      ]
    },
    {
      "cell_type": "code",
      "metadata": {
        "id": "madPCU5dg88N",
        "colab": {
          "base_uri": "https://localhost:8080/"
        },
        "outputId": "298632da-7926-43ef-c448-9457a3fe076a"
      },
      "source": [
        "# ------------ selecting a matrix ------------\n",
        "\n",
        "print(three_d_array[2]) # matrix 2"
      ],
      "execution_count": 52,
      "outputs": [
        {
          "output_type": "stream",
          "text": [
            "[[30 31 32]\n",
            " [33 34 35]\n",
            " [36 37 38]]\n"
          ],
          "name": "stdout"
        }
      ]
    },
    {
      "cell_type": "code",
      "metadata": {
        "id": "WbMG5Ul1g_Qd",
        "colab": {
          "base_uri": "https://localhost:8080/"
        },
        "outputId": "c4618203-03cd-47c8-d52d-0d3e65cb3a46"
      },
      "source": [
        "# ------------ creating a row across matrices ------------\n",
        "print(three_d_array[:, 1, 2]) # for every matrix, row 1, column 2 "
      ],
      "execution_count": 53,
      "outputs": [
        {
          "output_type": "stream",
          "text": [
            "[15 25 35]\n"
          ],
          "name": "stdout"
        }
      ]
    },
    {
      "cell_type": "code",
      "metadata": {
        "id": "xa68z36WhBCW",
        "colab": {
          "base_uri": "https://localhost:8080/"
        },
        "outputId": "434f6eca-32f6-485e-f0ad-7e0ae22e7a65"
      },
      "source": [
        "# ------------ creating a matrix from rows ------------\n",
        "print(three_d_array[:, 1]) # for every matrix, row 1"
      ],
      "execution_count": 54,
      "outputs": [
        {
          "output_type": "stream",
          "text": [
            "[[13 14 15]\n",
            " [23 24 25]\n",
            " [33 34 35]]\n"
          ],
          "name": "stdout"
        }
      ]
    },
    {
      "cell_type": "code",
      "metadata": {
        "id": "1UNEAbf2hEP0",
        "colab": {
          "base_uri": "https://localhost:8080/"
        },
        "outputId": "3c77f3ad-acd5-4d2b-ad04-2479162419e4"
      },
      "source": [
        "# ------------ creating a matrix from columns ------------\n",
        "print(three_d_array[:, :, 1]) # for every matrix, for every row, column 1"
      ],
      "execution_count": 55,
      "outputs": [
        {
          "output_type": "stream",
          "text": [
            "[[11 14 17]\n",
            " [21 24 27]\n",
            " [31 34 37]]\n"
          ],
          "name": "stdout"
        }
      ]
    },
    {
      "cell_type": "markdown",
      "metadata": {
        "id": "Awiwx-9phG4j"
      },
      "source": [
        "You can also slice within rows, columns and matrices in a 3D array, the same way you would in 1D arrays."
      ]
    },
    {
      "cell_type": "code",
      "metadata": {
        "id": "eBt6ZT26hJaa",
        "colab": {
          "base_uri": "https://localhost:8080/"
        },
        "outputId": "cc191c0b-9129-4389-ea79-3433ac6084d9"
      },
      "source": [
        "# list comprehensions\n",
        "# general format: new_list = [expression for_loop_one_or_more condtions]\n",
        "\n",
        "res = [num for num in same_type_list if isinstance(num, int) and num>0]\n",
        "print(res)"
      ],
      "execution_count": 56,
      "outputs": [
        {
          "output_type": "stream",
          "text": [
            "[3, 4, 89, 23, 43, 90]\n"
          ],
          "name": "stdout"
        }
      ]
    },
    {
      "cell_type": "code",
      "metadata": {
        "id": "5cy_Ub4xhNDd",
        "colab": {
          "base_uri": "https://localhost:8080/"
        },
        "outputId": "ce967ff5-c881-4d91-d049-62066251cc7c"
      },
      "source": [
        "%%timeit \n",
        "\n",
        "res2 = []\n",
        "res2 = [i for i in range(500)]"
      ],
      "execution_count": 57,
      "outputs": [
        {
          "output_type": "stream",
          "text": [
            "100000 loops, best of 3: 15.4 µs per loop\n"
          ],
          "name": "stdout"
        }
      ]
    },
    {
      "cell_type": "code",
      "metadata": {
        "id": "9VYsHr5phO8Q",
        "colab": {
          "base_uri": "https://localhost:8080/"
        },
        "outputId": "d703666a-46c3-4520-f655-11a6b3253b3d"
      },
      "source": [
        "%%timeit\n",
        "\n",
        "res3 = []\n",
        "for i in range(500):\n",
        "    res3.append(i)"
      ],
      "execution_count": 58,
      "outputs": [
        {
          "output_type": "stream",
          "text": [
            "10000 loops, best of 3: 32.7 µs per loop\n"
          ],
          "name": "stdout"
        }
      ]
    },
    {
      "cell_type": "markdown",
      "metadata": {
        "id": "FcvjZCWG6leq"
      },
      "source": [
        "# Classes\n",
        "\n",
        "You'll use classes extensively in the homeworks in this course. You will need classes for defining your models as well as your datasets. We'll consider an example of implementing the dataset class here."
      ]
    },
    {
      "cell_type": "code",
      "metadata": {
        "id": "Mc85weLphWqB"
      },
      "source": [
        "from torch.utils.data import Dataset\n",
        "\n",
        "class MyDataset(Dataset):\n",
        "    def __init__(self, x, y):\n",
        "        self.x = x\n",
        "        self.y = y\n",
        "        \n",
        "    def __getitem__(self, index):    \n",
        "        return (self.x[index], self.y[index])\n",
        "    \n",
        "    def __len__(self):\n",
        "        return len(self.x) "
      ],
      "execution_count": null,
      "outputs": []
    },
    {
      "cell_type": "markdown",
      "metadata": {
        "id": "i-JZ2srm6wMy"
      },
      "source": [
        "# Debugging\n",
        "\n",
        "You'll be extensively using pdb for debugging across the entire semester, especially in Part 2s. Few useful debugging shortcuts:\n",
        "\n",
        "* n - next statement (excludes function calls)\n",
        "* s - step into (includes function calls)\n",
        "* q - quit\n",
        "* b - breakpoints\n",
        "\n",
        "You can read more about pdb and its commands here https://docs.python.org/3/library/pdb.html"
      ]
    },
    {
      "cell_type": "code",
      "metadata": {
        "id": "x1WXq43UhmLh",
        "colab": {
          "base_uri": "https://localhost:8080/",
          "height": 732
        },
        "outputId": "70006a6b-e22c-48ac-a14a-847325b569ca"
      },
      "source": [
        "# notice the use of \"n\", \"s\", \"c\" when pdb sets the trace. \n",
        "# If \"s\" is commanded, it would go inside the set_trace() method\n",
        "# If you need to step out, just command \"c\"\n",
        "\n",
        "import pdb\n",
        "\n",
        "for i in range(3):\n",
        "    pdb.set_trace()\n",
        "    print(\"this is iteration \" + str(i))"
      ],
      "execution_count": 61,
      "outputs": [
        {
          "output_type": "stream",
          "text": [
            "> <ipython-input-61-799b99dfe470>(9)<module>()\n",
            "-> print(\"this is iteration \" + str(i))\n",
            "(Pdb) n\n",
            "this is iteration 0\n",
            "> <ipython-input-61-799b99dfe470>(7)<module>()\n",
            "-> for i in range(3):\n",
            "(Pdb) n\n",
            "> <ipython-input-61-799b99dfe470>(8)<module>()\n",
            "-> pdb.set_trace()\n",
            "(Pdb) n\n",
            "> <ipython-input-61-799b99dfe470>(9)<module>()\n",
            "-> print(\"this is iteration \" + str(i))\n",
            "(Pdb) n\n",
            "this is iteration 1\n",
            "> <ipython-input-61-799b99dfe470>(7)<module>()\n",
            "-> for i in range(3):\n",
            "(Pdb) n\n",
            "> <ipython-input-61-799b99dfe470>(8)<module>()\n",
            "-> pdb.set_trace()\n",
            "(Pdb) n\n",
            "> <ipython-input-61-799b99dfe470>(9)<module>()\n",
            "-> print(\"this is iteration \" + str(i))\n",
            "(Pdb) q\n"
          ],
          "name": "stdout"
        },
        {
          "output_type": "error",
          "ename": "BdbQuit",
          "evalue": "ignored",
          "traceback": [
            "\u001b[0;31m---------------------------------------------------------------------------\u001b[0m",
            "\u001b[0;31mBdbQuit\u001b[0m                                   Traceback (most recent call last)",
            "\u001b[0;32m<ipython-input-61-799b99dfe470>\u001b[0m in \u001b[0;36m<module>\u001b[0;34m()\u001b[0m\n\u001b[1;32m      7\u001b[0m \u001b[0;32mfor\u001b[0m \u001b[0mi\u001b[0m \u001b[0;32min\u001b[0m \u001b[0mrange\u001b[0m\u001b[0;34m(\u001b[0m\u001b[0;36m3\u001b[0m\u001b[0;34m)\u001b[0m\u001b[0;34m:\u001b[0m\u001b[0;34m\u001b[0m\u001b[0;34m\u001b[0m\u001b[0m\n\u001b[1;32m      8\u001b[0m     \u001b[0mpdb\u001b[0m\u001b[0;34m.\u001b[0m\u001b[0mset_trace\u001b[0m\u001b[0;34m(\u001b[0m\u001b[0;34m)\u001b[0m\u001b[0;34m\u001b[0m\u001b[0;34m\u001b[0m\u001b[0m\n\u001b[0;32m----> 9\u001b[0;31m     \u001b[0mprint\u001b[0m\u001b[0;34m(\u001b[0m\u001b[0;34m\"this is iteration \"\u001b[0m \u001b[0;34m+\u001b[0m \u001b[0mstr\u001b[0m\u001b[0;34m(\u001b[0m\u001b[0mi\u001b[0m\u001b[0;34m)\u001b[0m\u001b[0;34m)\u001b[0m\u001b[0;34m\u001b[0m\u001b[0;34m\u001b[0m\u001b[0m\n\u001b[0m",
            "\u001b[0;32m<ipython-input-61-799b99dfe470>\u001b[0m in \u001b[0;36m<module>\u001b[0;34m()\u001b[0m\n\u001b[1;32m      7\u001b[0m \u001b[0;32mfor\u001b[0m \u001b[0mi\u001b[0m \u001b[0;32min\u001b[0m \u001b[0mrange\u001b[0m\u001b[0;34m(\u001b[0m\u001b[0;36m3\u001b[0m\u001b[0;34m)\u001b[0m\u001b[0;34m:\u001b[0m\u001b[0;34m\u001b[0m\u001b[0;34m\u001b[0m\u001b[0m\n\u001b[1;32m      8\u001b[0m     \u001b[0mpdb\u001b[0m\u001b[0;34m.\u001b[0m\u001b[0mset_trace\u001b[0m\u001b[0;34m(\u001b[0m\u001b[0;34m)\u001b[0m\u001b[0;34m\u001b[0m\u001b[0;34m\u001b[0m\u001b[0m\n\u001b[0;32m----> 9\u001b[0;31m     \u001b[0mprint\u001b[0m\u001b[0;34m(\u001b[0m\u001b[0;34m\"this is iteration \"\u001b[0m \u001b[0;34m+\u001b[0m \u001b[0mstr\u001b[0m\u001b[0;34m(\u001b[0m\u001b[0mi\u001b[0m\u001b[0;34m)\u001b[0m\u001b[0;34m)\u001b[0m\u001b[0;34m\u001b[0m\u001b[0;34m\u001b[0m\u001b[0m\n\u001b[0m",
            "\u001b[0;32m/usr/lib/python3.6/bdb.py\u001b[0m in \u001b[0;36mtrace_dispatch\u001b[0;34m(self, frame, event, arg)\u001b[0m\n\u001b[1;32m     49\u001b[0m             \u001b[0;32mreturn\u001b[0m \u001b[0;31m# None\u001b[0m\u001b[0;34m\u001b[0m\u001b[0;34m\u001b[0m\u001b[0m\n\u001b[1;32m     50\u001b[0m         \u001b[0;32mif\u001b[0m \u001b[0mevent\u001b[0m \u001b[0;34m==\u001b[0m \u001b[0;34m'line'\u001b[0m\u001b[0;34m:\u001b[0m\u001b[0;34m\u001b[0m\u001b[0;34m\u001b[0m\u001b[0m\n\u001b[0;32m---> 51\u001b[0;31m             \u001b[0;32mreturn\u001b[0m \u001b[0mself\u001b[0m\u001b[0;34m.\u001b[0m\u001b[0mdispatch_line\u001b[0m\u001b[0;34m(\u001b[0m\u001b[0mframe\u001b[0m\u001b[0;34m)\u001b[0m\u001b[0;34m\u001b[0m\u001b[0;34m\u001b[0m\u001b[0m\n\u001b[0m\u001b[1;32m     52\u001b[0m         \u001b[0;32mif\u001b[0m \u001b[0mevent\u001b[0m \u001b[0;34m==\u001b[0m \u001b[0;34m'call'\u001b[0m\u001b[0;34m:\u001b[0m\u001b[0;34m\u001b[0m\u001b[0;34m\u001b[0m\u001b[0m\n\u001b[1;32m     53\u001b[0m             \u001b[0;32mreturn\u001b[0m \u001b[0mself\u001b[0m\u001b[0;34m.\u001b[0m\u001b[0mdispatch_call\u001b[0m\u001b[0;34m(\u001b[0m\u001b[0mframe\u001b[0m\u001b[0;34m,\u001b[0m \u001b[0marg\u001b[0m\u001b[0;34m)\u001b[0m\u001b[0;34m\u001b[0m\u001b[0;34m\u001b[0m\u001b[0m\n",
            "\u001b[0;32m/usr/lib/python3.6/bdb.py\u001b[0m in \u001b[0;36mdispatch_line\u001b[0;34m(self, frame)\u001b[0m\n\u001b[1;32m     68\u001b[0m         \u001b[0;32mif\u001b[0m \u001b[0mself\u001b[0m\u001b[0;34m.\u001b[0m\u001b[0mstop_here\u001b[0m\u001b[0;34m(\u001b[0m\u001b[0mframe\u001b[0m\u001b[0;34m)\u001b[0m \u001b[0;32mor\u001b[0m \u001b[0mself\u001b[0m\u001b[0;34m.\u001b[0m\u001b[0mbreak_here\u001b[0m\u001b[0;34m(\u001b[0m\u001b[0mframe\u001b[0m\u001b[0;34m)\u001b[0m\u001b[0;34m:\u001b[0m\u001b[0;34m\u001b[0m\u001b[0;34m\u001b[0m\u001b[0m\n\u001b[1;32m     69\u001b[0m             \u001b[0mself\u001b[0m\u001b[0;34m.\u001b[0m\u001b[0muser_line\u001b[0m\u001b[0;34m(\u001b[0m\u001b[0mframe\u001b[0m\u001b[0;34m)\u001b[0m\u001b[0;34m\u001b[0m\u001b[0;34m\u001b[0m\u001b[0m\n\u001b[0;32m---> 70\u001b[0;31m             \u001b[0;32mif\u001b[0m \u001b[0mself\u001b[0m\u001b[0;34m.\u001b[0m\u001b[0mquitting\u001b[0m\u001b[0;34m:\u001b[0m \u001b[0;32mraise\u001b[0m \u001b[0mBdbQuit\u001b[0m\u001b[0;34m\u001b[0m\u001b[0;34m\u001b[0m\u001b[0m\n\u001b[0m\u001b[1;32m     71\u001b[0m         \u001b[0;32mreturn\u001b[0m \u001b[0mself\u001b[0m\u001b[0;34m.\u001b[0m\u001b[0mtrace_dispatch\u001b[0m\u001b[0;34m\u001b[0m\u001b[0;34m\u001b[0m\u001b[0m\n\u001b[1;32m     72\u001b[0m \u001b[0;34m\u001b[0m\u001b[0m\n",
            "\u001b[0;31mBdbQuit\u001b[0m: "
          ]
        }
      ]
    },
    {
      "cell_type": "code",
      "metadata": {
        "id": "F-DhbyGiaGyl"
      },
      "source": [
        ""
      ],
      "execution_count": null,
      "outputs": []
    }
  ]
}